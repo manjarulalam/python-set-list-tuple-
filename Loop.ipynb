{
 "cells": [
  {
   "cell_type": "code",
   "execution_count": 3,
   "id": "28d415ee-785d-4e68-920a-f0e88c164c77",
   "metadata": {},
   "outputs": [
    {
     "name": "stdout",
     "output_type": "stream",
     "text": [
      "1\n",
      "2\n",
      "3\n",
      "4\n",
      "5\n",
      "6\n",
      "7\n",
      "8\n",
      "9\n",
      "10\n",
      "11\n",
      "12\n",
      "13\n",
      "14\n",
      "15\n",
      "16\n",
      "17\n",
      "18\n",
      "19\n",
      "20\n"
     ]
    }
   ],
   "source": [
    "x = range(1, 21)\n",
    "\n",
    "for x in x:\n",
    "    print(x)"
   ]
  },
  {
   "cell_type": "code",
   "execution_count": 6,
   "id": "de480282-4411-4cbc-9504-1d417882df56",
   "metadata": {},
   "outputs": [
    {
     "name": "stdout",
     "output_type": "stream",
     "text": [
      "0\n",
      "1\n",
      "2\n",
      "3\n",
      "4\n",
      "5\n",
      "6\n",
      "7\n",
      "8\n",
      "9\n"
     ]
    }
   ],
   "source": [
    "for i in range(10):\n",
    "    print(i)"
   ]
  },
  {
   "cell_type": "code",
   "execution_count": 16,
   "id": "40520a88-fd4d-454a-9329-e7c04795af96",
   "metadata": {},
   "outputs": [
    {
     "name": "stdout",
     "output_type": "stream",
     "text": [
      "0\n",
      "1\n",
      "2\n",
      "3\n",
      "4\n",
      "5\n",
      "6\n",
      "7\n",
      "8\n",
      "9\n"
     ]
    }
   ],
   "source": [
    "a = range(10)\n",
    "\n",
    "for i in a:\n",
    "    print(i)"
   ]
  },
  {
   "cell_type": "code",
   "execution_count": 17,
   "id": "80cc30b8-de93-4d67-bd77-328e0e3adc17",
   "metadata": {},
   "outputs": [
    {
     "name": "stdout",
     "output_type": "stream",
     "text": [
      "0\n",
      "5\n",
      "10\n",
      "15\n",
      "20\n",
      "25\n",
      "30\n",
      "35\n",
      "40\n",
      "45\n"
     ]
    }
   ],
   "source": [
    "x = range(0, 50, 5)\n",
    "\n",
    "for i in x:\n",
    "    print(i)"
   ]
  },
  {
   "cell_type": "code",
   "execution_count": 19,
   "id": "6f99aa85-3873-43cf-9752-4d8e11abdf92",
   "metadata": {},
   "outputs": [
    {
     "name": "stdout",
     "output_type": "stream",
     "text": [
      "range(0, 50, 5)\n",
      "range(0, 50, 5)\n",
      "range(0, 50, 5)\n",
      "range(0, 50, 5)\n",
      "range(0, 50, 5)\n",
      "range(0, 50, 5)\n",
      "range(0, 50, 5)\n",
      "range(0, 50, 5)\n",
      "range(0, 50, 5)\n",
      "range(0, 50, 5)\n"
     ]
    }
   ],
   "source": [
    "for i in x:\n",
    "    if x == 20:\n",
    "        continue\n",
    "    print(x)"
   ]
  },
  {
   "cell_type": "code",
   "execution_count": null,
   "id": "ecf604a3-2c5e-4ffa-9fbe-f2523b7f5429",
   "metadata": {},
   "outputs": [],
   "source": [
    "import array as ar\n",
    "\n",
    "numbers = array.array('i', [10, 20, 30, 40])\n",
    "print(numbers[0])   # 10\n",
    "numbers.append(50)\n",
    "print(numbers)\n"
   ]
  },
  {
   "cell_type": "code",
   "execution_count": 28,
   "id": "e7c659dd-ce52-48d1-84cc-113f5240793a",
   "metadata": {},
   "outputs": [
    {
     "name": "stdout",
     "output_type": "stream",
     "text": [
      "[10 20 30 40]\n"
     ]
    }
   ],
   "source": [
    "import numpy as np\n",
    "numbers = np.array([10, 20, 30, 40])\n",
    "print(numbers)"
   ]
  },
  {
   "cell_type": "code",
   "execution_count": 29,
   "id": "33e4dd11-fe74-420e-893b-c8d2239b155c",
   "metadata": {},
   "outputs": [
    {
     "data": {
      "text/plain": [
       "numpy.ndarray"
      ]
     },
     "execution_count": 29,
     "metadata": {},
     "output_type": "execute_result"
    }
   ],
   "source": [
    "type(numbers)"
   ]
  },
  {
   "cell_type": "code",
   "execution_count": null,
   "id": "e3dda1a3-5ef5-4679-a84a-2426b24f6b88",
   "metadata": {},
   "outputs": [],
   "source": []
  },
  {
   "cell_type": "code",
   "execution_count": null,
   "id": "3fc08e59-b6af-4a1e-a9b0-068c5bd42417",
   "metadata": {},
   "outputs": [],
   "source": []
  },
  {
   "cell_type": "code",
   "execution_count": 30,
   "id": "ae7cb41d-d9be-45c3-8d12-738a27bd57d6",
   "metadata": {},
   "outputs": [
    {
     "name": "stdout",
     "output_type": "stream",
     "text": [
      "----- Simple Calculator -----\n",
      "যোগ (+), বিয়োগ (-), গুন (*), ভাগ (/)\n",
      "Exit করতে 'q' চাপো\n",
      "\n"
     ]
    },
    {
     "name": "stdin",
     "output_type": "stream",
     "text": [
      "অপারেশন লিখুন (+, -, *, /) বা q চাপুন:  +\n",
      "প্রথম সংখ্যা দিন:  10\n",
      "দ্বিতীয় সংখ্যা দিন:  15\n"
     ]
    },
    {
     "name": "stdout",
     "output_type": "stream",
     "text": [
      "ফলাফল: 25.0\n",
      "\n"
     ]
    },
    {
     "name": "stdin",
     "output_type": "stream",
     "text": [
      "অপারেশন লিখুন (+, -, *, /) বা q চাপুন:  q\n"
     ]
    },
    {
     "name": "stdout",
     "output_type": "stream",
     "text": [
      "ক্যালকুলেটর বন্ধ করা হলো। ধন্যবাদ! 😊\n"
     ]
    }
   ],
   "source": [
    "print(\"----- Simple Calculator -----\")\n",
    "print(\"যোগ (+), বিয়োগ (-), গুন (*), ভাগ (/)\")\n",
    "print(\"Exit করতে 'q' চাপো\\n\")\n",
    "\n",
    "while True:\n",
    "    choice = input(\"অপারেশন লিখুন (+, -, *, /) বা q চাপুন: \")\n",
    "\n",
    "    if choice == \"q\":\n",
    "        print(\"ক্যালকুলেটর বন্ধ করা হলো। ধন্যবাদ! 😊\")\n",
    "        break\n",
    "\n",
    "    if choice in [\"+\", \"-\", \"*\", \"/\"]:\n",
    "        num1 = float(input(\"প্রথম সংখ্যা দিন: \"))\n",
    "        num2 = float(input(\"দ্বিতীয় সংখ্যা দিন: \"))\n",
    "\n",
    "        if choice == \"+\":\n",
    "            result = num1 + num2\n",
    "        elif choice == \"-\":\n",
    "            result = num1 - num2\n",
    "        elif choice == \"*\":\n",
    "            result = num1 * num2\n",
    "        elif choice == \"/\":\n",
    "            if num2 != 0:\n",
    "                result = num1 / num2\n",
    "            else:\n",
    "                print(\"❌ শূন্য দিয়ে ভাগ করা যায় না!\")\n",
    "                continue\n",
    "\n",
    "        print(f\"ফলাফল: {result}\\n\")\n",
    "    else:\n",
    "        print(\"❌ ভুল অপারেশন! আবার চেষ্টা করুন।\\n\")\n"
   ]
  },
  {
   "cell_type": "code",
   "execution_count": null,
   "id": "93e0c7c8-80a6-4c9b-9407-fd8ee8f1f27a",
   "metadata": {},
   "outputs": [],
   "source": []
  }
 ],
 "metadata": {
  "kernelspec": {
   "display_name": "Python 3 (ipykernel)",
   "language": "python",
   "name": "python3"
  },
  "language_info": {
   "codemirror_mode": {
    "name": "ipython",
    "version": 3
   },
   "file_extension": ".py",
   "mimetype": "text/x-python",
   "name": "python",
   "nbconvert_exporter": "python",
   "pygments_lexer": "ipython3",
   "version": "3.13.5"
  }
 },
 "nbformat": 4,
 "nbformat_minor": 5
}
